{
 "cells": [
  {
   "cell_type": "code",
   "execution_count": 2,
   "metadata": {},
   "outputs": [
    {
     "name": "stdout",
     "output_type": "stream",
     "text": [
      "519153.2\n"
     ]
    }
   ],
   "source": [
    "def calculate_transport_cost(transport_option, distance, mass):\n",
    "    # Define the parameters for each transport option\n",
    "    parameters = {\n",
    "        \"Container-based truck\": {\"alpha_1\": 0.15, \"alpha_2\": 5.58},\n",
    "        \"Dedicated truck\": {\"alpha_1\": 0.11, \"alpha_2\": 6.12},\n",
    "        \"Container-based train\": {\"alpha_1\": 0.07, \"alpha_2\": 28.9},\n",
    "        \"Dedicated train\": {\"alpha_1\": 0.05, \"alpha_2\": 16.7},\n",
    "        \"Container-based barge\": {\"alpha_1\": 0.04, \"alpha_2\": 33.5},\n",
    "        \"Container-based ship\": {\"alpha_1\": 0.05, \"alpha_2\": 20.8},\n",
    "        \"Dedicated barge\": {\"alpha_1\": 0.03, \"alpha_2\": 4.66, \"alpha_3\": 5190},\n",
    "        \"Dedicated ship, 15bar\": {\"alpha_1\": 0.01, \"alpha_2\": 9.95, \"alpha_3\": 3280},\n",
    "        \"Dedicated ship, 7bar\": {\"alpha_1\": 0.01, \"alpha_2\": 6.79, \"alpha_3\": 1680},\n",
    "        \"Pipeline, gas, onshore\": {\"alpha_1\": 0.02, \"alpha_2\": 260, \"alpha_3\": 0.07, \"alpha_4\": -0.61, \"m_ref\": 1, \"d_ref\": 1},\n",
    "        \"Pipeline, gas, offshore\": {\"alpha_1\": 0.02, \"alpha_2\": 58.3, \"alpha_3\": 0.07, \"alpha_4\": -0.51, \"m_ref\": 1, \"d_ref\": 1},\n",
    "        \"Pipeline, dense, onshore\": {\"alpha_1\": 0.01, \"alpha_2\": 860, \"alpha_3\": 0.04, \"alpha_4\": -0.74, \"m_ref\": 1, \"d_ref\": 1},\n",
    "        \"Pipeline, dense, offshore\": {\"alpha_1\": 0.01, \"alpha_2\": 38.2, \"alpha_3\": 0.18, \"alpha_4\": -0.58, \"m_ref\": 1, \"d_ref\": 1}\n",
    "    }\n",
    "\n",
    "    # Retrieve parameters for the chosen transport option\n",
    "    param = parameters.get(transport_option)\n",
    "\n",
    "    # If the transport option does not exist in the dictionary\n",
    "    if not param:\n",
    "        raise ValueError(\"Transport option not recognized\")\n",
    "\n",
    "    # Calculate the cost based on the available parameters\n",
    "    alpha_1 = param.get(\"alpha_1\", 0)\n",
    "    alpha_2 = param.get(\"alpha_2\", 0)\n",
    "    alpha_3 = param.get(\"alpha_3\", 0)\n",
    "    alpha_4 = param.get(\"alpha_4\", 0)\n",
    "    m_ref = param.get(\"m_ref\", mass)  # Default to mass if m_ref is not provided\n",
    "    d_ref = param.get(\"d_ref\", distance)  # Default to distance if d_ref is not provided\n",
    "\n",
    "    if \"Dedicated barge\" in transport_option or \"Dedicated ship\" in transport_option:\n",
    "        # Cost calculation for dedicated barge and ship\n",
    "        cost = alpha_1 + alpha_2 / distance + alpha_3 / mass\n",
    "    elif \"Pipeline\" in transport_option:\n",
    "        # Cost calculation for pipelines\n",
    "        cost = (alpha_1 + alpha_2 / distance + \n",
    "                (distance / d_ref) ** alpha_3 * \n",
    "                (mass / m_ref) ** alpha_4)\n",
    "    else:\n",
    "        # Default cost calculation\n",
    "        cost = alpha_1 + alpha_2 / distance\n",
    "\n",
    "    # Return the total cost by multiplying by distance and mass\n",
    "    return cost * distance * mass\n",
    "\n",
    "# You can now use the function with the correct parameters for the dedicated barge and ship.\n",
    "# Example:\n",
    "cost = calculate_transport_cost(\"Dedicated barge\", 100, 20)\n",
    "print(cost)\n"
   ]
  },
  {
   "cell_type": "code",
   "execution_count": 4,
   "metadata": {},
   "outputs": [
    {
     "name": "stdout",
     "output_type": "stream",
     "text": [
      "174031496.89907736\n"
     ]
    }
   ],
   "source": [
    "cost = calculate_transport_cost(\"Pipeline, dense, onshore\", 1000, 200000)\n",
    "print(cost)"
   ]
  }
 ],
 "metadata": {
  "kernelspec": {
   "display_name": "Python 3",
   "language": "python",
   "name": "python3"
  },
  "language_info": {
   "codemirror_mode": {
    "name": "ipython",
    "version": 3
   },
   "file_extension": ".py",
   "mimetype": "text/x-python",
   "name": "python",
   "nbconvert_exporter": "python",
   "pygments_lexer": "ipython3",
   "version": "3.9.12"
  }
 },
 "nbformat": 4,
 "nbformat_minor": 2
}
